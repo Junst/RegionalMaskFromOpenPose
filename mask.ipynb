{
 "cells": [
  {
   "cell_type": "code",
   "execution_count": 2,
   "metadata": {},
   "outputs": [],
   "source": [
    "import re\n",
    "import cv2\n",
    "import numpy as np\n",
    "import gradio as gr\n",
    "\n",
    "blocks = gr.Blocks()\n",
    "\n",
    "# replace multiple spaces with single space\n",
    "# Sometimes you want to copy command from other terminal result and paste it to your terminal but \\n or multiple spaces causes problem...                         \n",
    "def replace_multiple_spaces_with_single_space(string:str) -> str:\n",
    "    return (re.sub(r'\\s+', ' ', string, flags=re.I)) \n",
    "\n",
    "import PIL\n",
    "from PIL import Image\n",
    "import numpy as np"
   ]
  },
  {
   "cell_type": "code",
   "execution_count": 3,
   "metadata": {},
   "outputs": [],
   "source": [
    "# concat images horizontally, useful for combining poses.\n",
    "\n",
    "def concat_images_horizontally(images):\n",
    "    widths, heights = zip(*(i.size for i in images))\n",
    "    total_width = sum(widths)\n",
    "    max_height = max(heights)\n",
    "    new_im = Image.new('RGB', (total_width, max_height))\n",
    "    x_offset = 0\n",
    "    for im in images:\n",
    "      new_im.paste(im, (x_offset,0))\n",
    "      x_offset += im.size[0]\n",
    "    return new_im\n",
    "\n",
    "def concat_from_files_horizontally(files):\n",
    "    images = []\n",
    "    for file in files:\n",
    "        images.append(Image.open(file))\n",
    "    return concat_images_horizontally(images)\n",
    "\n",
    "import glob\n",
    "\n",
    "\n",
    "def concat_from_glob_horizontally(glob_pattern:str) -> Image.Image:\n",
    "    \"\"\"\n",
    "    Concat images horizontally from glob pattern (directory path)\n",
    "    ex) concat_from_glob_horizontally(\"/home/user/*.png\")\n",
    "    \"\"\"\n",
    "    files = glob.glob(glob_pattern)\n",
    "    return concat_from_files_horizontally(files)\n",
    "\n",
    "# using base64 to decode string"
   ]
  },
  {
   "cell_type": "code",
   "execution_count": 12,
   "metadata": {},
   "outputs": [],
   "source": [
    "import base64\n",
    "\n",
    "def decode_base64_to_string(base64_string):\n",
    "    return base64.b64decode(base64_string).decode('utf-8')\n",
    "\n",
    "#def autogen_mask_blur(pose_image, radius = 5, threshold = 40):\n",
    "    # convert to grayscale. Then if value is less than 40, set to 0, otherwise set to 255\n",
    "    # Then for each white pixel, increase brightness for circle with radius to new image\n",
    "    # Then apply gaussian blur to new image\n",
    "    # apply threshold again\n",
    "    # apply connected components to get separate objects\n",
    "    # apply different color for each object\n"
   ]
  },
  {
   "cell_type": "code",
   "execution_count": 13,
   "metadata": {},
   "outputs": [
    {
     "data": {
      "text/plain": [
       "True"
      ]
     },
     "execution_count": 13,
     "metadata": {},
     "output_type": "execute_result"
    }
   ],
   "source": [
    "mask_image = \"C:\\RegionalMaskFromOpenPose/2.png\"\n",
    "mask_image2 = cv2.imread(mask_image, cv2.COLOR_BGR2GRAY)\n",
    "#cv2.imshow('test',mask_image2)\n",
    "#cv2.waitKey(0)\n",
    "#cv2.destoryAllWinodws()\n",
    "cv2.imwrite('./2mask_image2.png',mask_image2)\n",
    "\n",
    "# mask_image2 to make inverted\n",
    "mask_image3 = cv2.bitwise_not(mask_image2)\n",
    "cv2.imwrite('./3mask_image3.png',mask_image3)"
   ]
  },
  {
   "cell_type": "code",
   "execution_count": 14,
   "metadata": {},
   "outputs": [
    {
     "data": {
      "text/plain": [
       "array([[0, 0, 0, ..., 0, 0, 0],\n",
       "       [0, 0, 0, ..., 0, 0, 0],\n",
       "       [0, 0, 0, ..., 0, 0, 0],\n",
       "       ...,\n",
       "       [0, 0, 0, ..., 0, 0, 0],\n",
       "       [0, 0, 0, ..., 0, 0, 0],\n",
       "       [0, 0, 0, ..., 0, 0, 0]], dtype=uint8)"
      ]
     },
     "execution_count": 14,
     "metadata": {},
     "output_type": "execute_result"
    }
   ],
   "source": [
    "# convert to grayscale\n",
    "gray = cv2.cvtColor(mask_image3, cv2.COLOR_BGR2GRAY)\n",
    "cv2.imwrite('./3gray.png',gray)\n",
    "gray"
   ]
  },
  {
   "cell_type": "code",
   "execution_count": 31,
   "metadata": {},
   "outputs": [
    {
     "data": {
      "text/plain": [
       "True"
      ]
     },
     "execution_count": 31,
     "metadata": {},
     "output_type": "execute_result"
    }
   ],
   "source": [
    "threshold =60\n",
    "gaussian = 9 # 홀수 여야함\n",
    "radius = 50\n",
    "# threshold to get a mask\n",
    "_, mask = cv2.threshold(gray, threshold, 255, cv2.THRESH_BINARY)\n",
    "cv2.imwrite('./4mask.png', mask)\n",
    "\n",
    "# create a new image with the same size as the input image\n",
    "new_image = np.zeros_like(gray)\n",
    "cv2.imwrite('./5new_image.png', new_image)\n",
    "# for each white pixel in the mask, increase brightness for circle with radius in new image\n",
    "indices = np.where(mask == 255)\n",
    "for z in zip(*indices):\n",
    "    y, x = z\n",
    "    cv2.circle(new_image, (x, y), radius, (255, 255, 255), -1)\n",
    "\n",
    "# apply gaussian blur to new image\n",
    "blurred = cv2.GaussianBlur(new_image, (gaussian, gaussian), 0)\n",
    "# if debug_image_output is not None:\n",
    "#    debug_image_output.value = blurred\n",
    "cv2.imwrite('./6blurred.png', blurred)"
   ]
  },
  {
   "cell_type": "code",
   "execution_count": 35,
   "metadata": {},
   "outputs": [
    {
     "data": {
      "text/plain": [
       "True"
      ]
     },
     "execution_count": 35,
     "metadata": {},
     "output_type": "execute_result"
    }
   ],
   "source": [
    "# fill the inside of the mask of blurred\n",
    "_, mask = cv2.threshold(blurred, 40, 255, cv2.THRESH_BINARY)\n",
    "\n",
    "# apply connected components to get separate objects\n",
    "num_labels, labels, stats, centroids = cv2.connectedComponentsWithStats(mask, connectivity=8)\n",
    "# apply different color for each object\n",
    "output = np.zeros_like(mask)\n",
    "for i in range(1, num_labels):\n",
    "    mask = np.where(labels == i, 255, 0)\n",
    "    output = cv2.add(output, mask, dtype=cv2.CV_32F)\n",
    "cv2.imwrite('./7output.png', output)\n",
    "\n"
   ]
  },
  {
   "cell_type": "code",
   "execution_count": 36,
   "metadata": {},
   "outputs": [
    {
     "data": {
      "text/plain": [
       "True"
      ]
     },
     "execution_count": 36,
     "metadata": {},
     "output_type": "execute_result"
    }
   ],
   "source": [
    "nelem = 0\n",
    "height, width = blurred.shape\n",
    "for x in range(height):\n",
    "    for y in range(width):\n",
    "        if blurred[x, y] == 0:\n",
    "            nelem += 1\n",
    "            cv2.floodFill(blurred, None, (y, x), nelem)\n",
    "           #  cv2.floodFill(blurred, None, (y, x), (nelem, nelem, nelem))\n",
    "cv2.imwrite('./8blurred.png', blurred)  \n"
   ]
  },
  {
   "cell_type": "code",
   "execution_count": 16,
   "metadata": {},
   "outputs": [
    {
     "name": "stdout",
     "output_type": "stream",
     "text": [
      "3 [[0 0 0 ... 0 0 0]\n",
      " [0 0 0 ... 0 0 0]\n",
      " [0 0 0 ... 0 0 0]\n",
      " ...\n",
      " [0 0 0 ... 0 0 0]\n",
      " [0 0 0 ... 0 0 0]\n",
      " [0 0 0 ... 0 0 0]] [[      0       0    1886    2649 4694948]\n",
      " [      0     940    1661    1709  295949]\n",
      " [    600    1499     181      69    5117]] [[ 964.34536293 1289.07757956]\n",
      " [ 600.34512365 1874.43951154]\n",
      " [ 687.96619113 1530.55169044]]\n"
     ]
    },
    {
     "data": {
      "text/plain": [
       "(<PIL.Image.Image image mode=RGB size=1886x2649>,\n",
       " <PIL.Image.Image image mode=L size=1886x2649>,\n",
       " array([[0, 0, 0, ..., 0, 0, 0],\n",
       "        [0, 0, 0, ..., 0, 0, 0],\n",
       "        [0, 0, 0, ..., 0, 0, 0],\n",
       "        ...,\n",
       "        [0, 0, 0, ..., 0, 0, 0],\n",
       "        [0, 0, 0, ..., 0, 0, 0],\n",
       "        [0, 0, 0, ..., 0, 0, 0]], dtype=uint8))"
      ]
     },
     "execution_count": 16,
     "metadata": {},
     "output_type": "execute_result"
    }
   ],
   "source": [
    "# threshold to get a mask\n",
    "_, mask = cv2.threshold(blurred, 0, 255, cv2.THRESH_BINARY)\n",
    "cv2.imwrite('./7mask.png', mask)\n",
    "\n",
    "# assert mask is 1 channel\n",
    "assert mask.shape == (mask_image3.shape[0], mask_image3.shape[1]), \"mask should have 1 channel\"\n",
    "\n",
    "# separate objects with connected components\n",
    "num_labels, labels, stats, centroids = cv2.connectedComponentsWithStats(mask, connectivity=8)\n",
    "print(num_labels, labels, stats, centroids)\n",
    "\n",
    "# apply different color for each object\n",
    "# now use 3 channels\n",
    "empty = np.zeros_like(mask_image3)\n",
    "# randomly generate colors\n",
    "colors = np.random.randint(0, 255, size=(num_labels, 3), dtype=np.uint8)\n",
    "# set background to white\n",
    "colors[0] = (255, 255, 255)\n",
    "# for each object, set color to the object\n",
    "for i in range(1, num_labels):\n",
    "    empty[labels == i] = colors[i]\n",
    "\n",
    "Image.fromarray(empty), Image.fromarray(new_image), blurred\n"
   ]
  },
  {
   "cell_type": "code",
   "execution_count": null,
   "metadata": {},
   "outputs": [],
   "source": []
  }
 ],
 "metadata": {
  "kernelspec": {
   "display_name": "mask",
   "language": "python",
   "name": "python3"
  },
  "language_info": {
   "codemirror_mode": {
    "name": "ipython",
    "version": 3
   },
   "file_extension": ".py",
   "mimetype": "text/x-python",
   "name": "python",
   "nbconvert_exporter": "python",
   "pygments_lexer": "ipython3",
   "version": "3.10.13"
  }
 },
 "nbformat": 4,
 "nbformat_minor": 2
}
